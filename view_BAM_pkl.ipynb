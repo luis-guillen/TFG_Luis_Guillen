{
 "cells": [
  {
   "cell_type": "code",
   "execution_count": 5,
   "metadata": {},
   "outputs": [
    {
     "name": "stdout",
     "output_type": "stream",
     "text": [
      "\n",
      "**** tipo de datos : <class 'dict'>\n",
      "\n",
      "**** Información dataframe\n",
      "\n"
     ]
    },
    {
     "ename": "KeyError",
     "evalue": "'year'",
     "output_type": "error",
     "traceback": [
      "\u001b[0;31m---------------------------------------------------------------------------\u001b[0m",
      "\u001b[0;31mKeyError\u001b[0m                                  Traceback (most recent call last)",
      "Cell \u001b[0;32mIn[5], line 16\u001b[0m\n\u001b[1;32m     13\u001b[0m \u001b[38;5;28mprint\u001b[39m()\n\u001b[1;32m     14\u001b[0m \u001b[38;5;66;03m#print(bam.info())\u001b[39;00m\n\u001b[0;32m---> 16\u001b[0m years \u001b[38;5;241m=\u001b[39m \u001b[43mbam\u001b[49m\u001b[43m[\u001b[49m\u001b[38;5;124;43m'\u001b[39;49m\u001b[38;5;124;43myear\u001b[39;49m\u001b[38;5;124;43m'\u001b[39;49m\u001b[43m]\u001b[49m\n\u001b[1;32m     17\u001b[0m \u001b[38;5;28mprint\u001b[39m(\u001b[38;5;124m'\u001b[39m\u001b[38;5;124maños: \u001b[39m\u001b[38;5;132;01m{}\u001b[39;00m\u001b[38;5;124m'\u001b[39m\u001b[38;5;241m.\u001b[39mformat(years\u001b[38;5;241m.\u001b[39munique()))\n\u001b[1;32m     19\u001b[0m nifs \u001b[38;5;241m=\u001b[39m bam[\u001b[38;5;124m'\u001b[39m\u001b[38;5;124mnif\u001b[39m\u001b[38;5;124m'\u001b[39m]\n",
      "\u001b[0;31mKeyError\u001b[0m: 'year'"
     ]
    }
   ],
   "source": [
    "import pickle\n",
    "import pandas as pd\n",
    "#ver pkl\n",
    "bam_filename = \"/Users/luisguillen/Downloads/210309-BAM_OG/Data/bam_2/B66406935.pkl\"\n",
    "\n",
    "with open(bam_filename, \"rb\") as f:\n",
    "    bam = pickle.load(f)\n",
    "\n",
    "print()\n",
    "print('**** tipo de datos : {}'.format(type(bam)))\n",
    "print()\n",
    "print('**** Información dataframe')\n",
    "print()\n",
    "#print(bam.info())\n",
    "\n",
    "years = bam['year']\n",
    "print('años: {}'.format(years.unique()))\n",
    "\n",
    "nifs = bam['nif']\n",
    "print('núm. empresas: {}'.format(len(nifs.unique())))\n",
    "\n",
    "acctr = bam['acctr']\n",
    "print('acctr: {}'.format(acctr.unique()))\n",
    "\n",
    "acctc = bam['acctc']\n",
    "print('acctc: {}'.format(acctc.unique()))"
   ]
  },
  {
   "cell_type": "code",
   "execution_count": null,
   "metadata": {},
   "outputs": [],
   "source": [
    "pip"
   ]
  }
 ],
 "metadata": {
  "kernelspec": {
   "display_name": "BAM",
   "language": "python",
   "name": "python3"
  },
  "language_info": {
   "codemirror_mode": {
    "name": "ipython",
    "version": 3
   },
   "file_extension": ".py",
   "mimetype": "text/x-python",
   "name": "python",
   "nbconvert_exporter": "python",
   "pygments_lexer": "ipython3",
   "version": "3.9.21"
  }
 },
 "nbformat": 4,
 "nbformat_minor": 2
}
